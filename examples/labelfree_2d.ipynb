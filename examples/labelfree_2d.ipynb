{
 "cells": [
  {
   "cell_type": "code",
   "execution_count": null,
   "metadata": {},
   "outputs": [],
   "source": [
    "from pathlib import Path\n",
    "import shutil\n",
    "# you need quilt3 package to download the data:\n",
    "! pip install quilt3\n",
    "import pandas as pd\n",
    "import quilt3\n",
    "from aicsimageio import AICSImage\n",
    "from aicsimageio.writers import OmeTiffWriter\n",
    "from random import random"
   ]
  },
  {
   "cell_type": "code",
   "execution_count": null,
   "metadata": {},
   "outputs": [],
   "source": [
    "# set parameters\n",
    "\n",
    "# which cell line to download: in the paper, we tested on four nuclear structures:\n",
    "# - fibrillarin (cline = \"FBL\")\n",
    "# - nucleophosmin (cline = \"NPM1\")\n",
    "# - lamin b1 (cline = \"LMNB1\")\n",
    "# - histon H2B (cline = \"HIST1H2BJ\")\n",
    "cline = \"FBL\"\n",
    "num_samples_per_cell_line = 50 # choose what you need, with roughly 80/20 training/validation split \n",
    "\n",
    "# set up path\n",
    "parent_path = Path(\"/mnt/eternus/users/Yu/project/data_compression/data/FBL\") / f\"{cline}\"\n",
    "parent_path.mkdir(exist_ok=True)\n",
    "\n",
    "raw_path = parent_path / Path(\"download\")\n",
    "raw_path.mkdir(exist_ok=True)\n",
    "train_path = parent_path / Path(\"train\")\n",
    "train_path.mkdir(exist_ok=True)\n",
    "holdout_path = parent_path / Path(\"holdout\")\n",
    "holdout_path.mkdir(exist_ok=True)"
   ]
  },
  {
   "cell_type": "code",
   "execution_count": null,
   "metadata": {},
   "outputs": [],
   "source": [
    "# connect to quilt and load meta table\n",
    "pkg = quilt3.Package.browse(\n",
    "    \"aics/hipsc_single_cell_image_dataset\", registry=\"s3://allencell\"\n",
    ")\n",
    "meta_df_obj = pkg[\"metadata.csv\"]\n",
    "meta_df_obj.fetch(parent_path / \"meta.csv\")\n",
    "meta_df = pd.read_csv(parent_path / \"meta.csv\")\n",
    "\n",
    "# fetch the data of the specific cell line\n",
    "meta_df_line = meta_df.query(\"structure_name==@cline\")\n",
    "\n",
    "# collapse the data table based on FOVId\n",
    "meta_df_line.drop_duplicates(subset=\"FOVId\", inplace=True)\n",
    "\n",
    "# reset index\n",
    "meta_df_line.reset_index(drop=True, inplace=True)"
   ]
  },
  {
   "cell_type": "code",
   "execution_count": null,
   "metadata": {},
   "outputs": [],
   "source": [
    "# download the images and re-slice into input (BF) and ground truth (fluorescent) images\n",
    "for row in meta_df_line.itertuples():\n",
    "    if row.Index >= num_samples_per_cell_line:\n",
    "        break\n",
    "    \n",
    "    # fetch the raw image (multi-channel)\n",
    "    subdir_name = row.fov_path.split(\"/\")[0]\n",
    "    file_name = row.fov_path.split(\"/\")[1]\n",
    "\n",
    "    local_fn = raw_path / f\"{row.FOVId}_original.tiff\"\n",
    "    pkg[subdir_name][file_name].fetch(local_fn)\n",
    "\n",
    "    # extract the bf and structures channel\n",
    "    reader = AICSImage(local_fn)\n",
    "    bf_img = reader.get_image_data(\n",
    "        \"ZYX\", C=row.ChannelNumberBrightfield, S=0, T=0\n",
    "    )\n",
    "    str_img = reader.get_image_data(\n",
    "        \"ZYX\", C=row.ChannelNumberStruct, S=0, T=0\n",
    "    )\n",
    "\n",
    "    if random() < 0.2:\n",
    "        data_path = holdout_path\n",
    "    else:\n",
    "        data_path = train_path\n",
    "    # 3d to 2d data:\n",
    "    for i,(bf_slice,str_slice) in enumerate(zip(bf_img,str_img)):\n",
    "        im_fn = data_path / f\"{row.FOVId}_{i}_IM.tiff\"\n",
    "        gt_fn = data_path / f\"{row.FOVId}_{i}_GT.tiff\"\n",
    "        OmeTiffWriter.save(bf_slice, im_fn, dim_order=\"YX\")\n",
    "        OmeTiffWriter.save(str_slice, gt_fn, dim_order=\"YX\")"
   ]
  },
  {
   "cell_type": "code",
   "execution_count": null,
   "metadata": {},
   "outputs": [],
   "source": [
    "# you may remove the download folder now.\n",
    "from shutil import rmtree\n",
    "import os\n",
    "rmtree(raw_path)\n",
    "os.remove(parent_path / \"meta.csv\")"
   ]
  },
  {
   "cell_type": "code",
   "execution_count": 2,
   "metadata": {},
   "outputs": [],
   "source": [
    "# 1, load the data:\n",
    "data_dirs = Path('../../data/FBL/train').glob('*IM.tiff')\n",
    "dst_dir = Path('../../data/FBL/train_im')\n",
    "dst_dir.mkdir(exist_ok=True)\n",
    "for data_dir in data_dirs:\n",
    "    shutil.copy(data_dir,dst_dir)"
   ]
  },
  {
   "cell_type": "code",
   "execution_count": 41,
   "metadata": {},
   "outputs": [],
   "source": [
    "# 2, calculate the ssim:\n",
    "prd_path = Path('/mnt/eternus/users/Yu/project/data_compression/CompressAI/hello.tiff')\n",
    "input_path = Path('/mnt/eternus/users/Yu/project/data_compression/data/labelfree_2d/test/7636_0_IM.tiff')"
   ]
  },
  {
   "cell_type": "code",
   "execution_count": 8,
   "metadata": {},
   "outputs": [],
   "source": [
    "import pandas as pd\n",
    "import warnings\n",
    "warnings.simplefilter(action='ignore', category=FutureWarning)\n",
    "import numpy as np\n",
    "from aicsimageio import AICSImage\n",
    "from aicsimageio.writers import OmeTiffWriter\n",
    "from pathlib import Path\n",
    "import os\n",
    "import sys\n",
    "import numpy as np\n",
    "from skimage.metrics import structural_similarity as ssim\n",
    "from skimage.metrics import peak_signal_noise_ratio as psnr\n",
    "import monai\n",
    "import torch\n",
    "\n",
    "def normalizeItensity(image):\n",
    "    # Convert the image data to a floating-point data type\n",
    "    img = image.astype(np.float32)\n",
    "    # Convert the image to a toch Tensor\n",
    "    img = torch.from_numpy(img)\n",
    "    # Normalize the intensity of the image using the MONAI NormalizeIntensity transform\n",
    "    normalize_intensity = monai.transforms.NormalizeIntensity()\n",
    "    img_normalized = normalize_intensity(img)\n",
    "    # Convert the normalized image back to a numpy array\n",
    "    return img_normalized.numpy()\n",
    "\n",
    "def transform_img(image):\n",
    "    img = image.astype(np.float32) / 65535\n",
    "    print(type(img))\n",
    "    return img\n",
    "\n",
    "def compare_images(path1, path2, gt=False):\n",
    "    # Load the two images\n",
    "    image1 = AICSImage(path1).get_image_data('YX') \n",
    "    image2 = AICSImage(path2).get_image_data('YX') \n",
    "    if gt:\n",
    "        # image1 = image1.astype(np.float32)\n",
    "        # # Scale the values in image1 to the range [0, 65535]\n",
    "        # scaled_image = (image1 / np.max(image1) * 65535).round().astype(np.uint16)\n",
    "        # image1 = scaled_image\n",
    "        image1 = transform_img(image1)\n",
    "        image2 = transform_img(image2)\n",
    "    # Calculate metrics\n",
    "    mse = np.sum((image1 - image2) ** 2)/(924*624)\n",
    "    ssim_value = ssim(image1, image2)\n",
    "    psnr_value = psnr(image1, image2)\n",
    "    corr = np.corrcoef(image1.ravel(), image2.ravel())[0, 1]\n",
    "    # psnr = 10 * np.log10(1 / (mse + 0.000001))\n",
    "    return mse, ssim_value, psnr_value, corr"
   ]
  },
  {
   "cell_type": "code",
   "execution_count": 2,
   "metadata": {},
   "outputs": [],
   "source": [
    "class AverageMeter(object):\n",
    "    \"\"\"Computes and stores the average and current value\"\"\"\n",
    "\n",
    "    def __init__(self):\n",
    "        self.reset()\n",
    "\n",
    "    def reset(self):\n",
    "        self.val = 0\n",
    "        self.avg = 0\n",
    "        self.sum = 0\n",
    "        self.count = 0\n",
    "\n",
    "    def update(self, val, n=1):\n",
    "        self.val = val\n",
    "        self.sum += val * n\n",
    "        self.count += n\n",
    "        self.avg = self.sum / self.count"
   ]
  },
  {
   "cell_type": "code",
   "execution_count": null,
   "metadata": {},
   "outputs": [],
   "source": [
    "from compressai.zoo.image import cfgs\n",
    "from compressai.zoo import image_models\n",
    "\n",
    "holdout_path_2d = Path(\"/mnt/eternus/users/Yu/project/data_compression/data/labelfree/FBL/holdout\")\n",
    "for image in holdout_path_2d.glob('*IM*.tiff'): \n",
    "    model_name= 'bmshj2018-factorized'+'_'+'mse'+'_'+'8'\n",
    "    path_encoded= image.parent/model_name/str(image.stem+'_encoded')\n",
    "    path_encoded.parent.mkdir(exist_ok=True, parents = True)\n",
    "    path_decoded= image.parent/model_name/str(image.stem+'_decoded.tiff')\n",
    "    path_decoded.parent.mkdir(exist_ok=True, parents = True)\n",
    "    if not path_decoded.is_file():\n",
    "        !python3 codec.py encode {image} -o {path_encoded} --model bmshj2018-factorized -q 8 -m mse --cuda\n",
    "        !python3 codec.py decode {path_encoded} -o {path_decoded} --cuda"
   ]
  },
  {
   "cell_type": "code",
   "execution_count": 10,
   "metadata": {},
   "outputs": [],
   "source": [
    "decoded_paths = sorted(Path('/mnt/eternus/users/Yu/project/data_compression/data/labelfree_2d/test/bmshj2018-factorized_mse_8/').glob('*.tiff'))\n",
    "holdout_paths = sorted(Path(\"/mnt/eternus/users/Yu/project/data_compression/data/labelfree_2d/test/\").glob('*.tiff'))"
   ]
  },
  {
   "cell_type": "code",
   "execution_count": null,
   "metadata": {},
   "outputs": [],
   "source": [
    "mse_value = AverageMeter()\n",
    "ssim_value = AverageMeter()\n",
    "psnr_value = AverageMeter()\n",
    "corr_value = AverageMeter()\n",
    "for i, (decode_path, holdout_path) in enumerate(zip(decoded_paths, holdout_paths)):\n",
    "    tmp_mse, tmp_ssim, tmp_psnr, tmp_corr = compare_images(decode_path, holdout_path)\n",
    "    mse_value.update(tmp_mse)\n",
    "    ssim_value.update(tmp_ssim)\n",
    "    psnr_value.update(tmp_psnr)\n",
    "    corr_value.update(tmp_corr)\n",
    "print(mse_value.avg, ssim_value.avg, psnr_value.avg, corr_value.avg)"
   ]
  },
  {
   "cell_type": "markdown",
   "metadata": {},
   "source": [
    "# Fine tuning the pretrained model"
   ]
  },
  {
   "cell_type": "code",
   "execution_count": null,
   "metadata": {},
   "outputs": [],
   "source": [
    "!python3 train.py -d /mnt/eternus/users/Yu/project/data_compression/data/labelfree_2d/ --aux-learning-rate 0 --lambda 0.1800 --epochs 100 -lr 1e-3 --batch-size 4 --pretrained True --model bmshj2018-factorized --quality 8 --metric mse --cuda --save_path /mnt/eternus/users/Yu/project/data_compression/data/labelfree_2d/model/fine_tune_v4.pth.tar"
   ]
  },
  {
   "cell_type": "markdown",
   "metadata": {},
   "source": [
    "- with trained model:"
   ]
  },
  {
   "cell_type": "code",
   "execution_count": null,
   "metadata": {},
   "outputs": [],
   "source": [
    "holdout_path_2d = Path(\"/mnt/eternus/users/Yu/project/data_compression/data/labelfree_2d/toy_test/\")\n",
    "for image in holdout_path_2d.glob('*IM*.tiff'): \n",
    "    model_name= 'bmshj2018-factorized'+'_'+'mse'+'_'+'8_v5'\n",
    "    path_encoded= image.parent/model_name/str(image.stem+'_encoded')\n",
    "    path_encoded.parent.mkdir(exist_ok=True, parents = True)\n",
    "    path_decoded= image.parent/model_name/str(image.stem+'_decoded.tiff')\n",
    "    path_decoded.parent.mkdir(exist_ok=True, parents = True)\n",
    "    if not path_decoded.is_file():\n",
    "        !python3 codec.py encode {image} -o {path_encoded} --model bmshj2018-factorized -q 8 -m mse --cuda --checkpoint /mnt/eternus/users/Yu/project/data_compression/data/labelfree_2d/model/fine_tune_v4.pth.tar\n",
    "        # !python3 codec.py encode {image} -o {path_encoded} --model bmshj2018-factorized -q 8 -m mse --cuda\n",
    "        !python3 codec.py decode {path_encoded} -o {path_decoded} --cuda"
   ]
  },
  {
   "cell_type": "markdown",
   "metadata": {},
   "source": [
    "# Labelfree 2d experiment"
   ]
  },
  {
   "cell_type": "code",
   "execution_count": 1,
   "metadata": {},
   "outputs": [
    {
     "name": "stdout",
     "output_type": "stream",
     "text": [
      "Thu Jul 13 10:46:06 2023       \n",
      "+-----------------------------------------------------------------------------+\n",
      "| NVIDIA-SMI 470.161.03   Driver Version: 470.161.03   CUDA Version: 11.4     |\n",
      "|-------------------------------+----------------------+----------------------+\n",
      "| GPU  Name        Persistence-M| Bus-Id        Disp.A | Volatile Uncorr. ECC |\n",
      "| Fan  Temp  Perf  Pwr:Usage/Cap|         Memory-Usage | GPU-Util  Compute M. |\n",
      "|                               |                      |               MIG M. |\n",
      "|===============================+======================+======================|\n",
      "|   0  NVIDIA A100-SXM...  Off  | 00000000:0E:00.0 Off |                    0 |\n",
      "| N/A   28C    P0    51W / 400W |      0MiB / 40536MiB |      0%      Default |\n",
      "|                               |                      |             Disabled |\n",
      "+-------------------------------+----------------------+----------------------+\n",
      "|   1  NVIDIA A100-SXM...  Off  | 00000000:13:00.0 Off |                    0 |\n",
      "| N/A   28C    P0    51W / 400W |      0MiB / 40536MiB |      0%      Default |\n",
      "|                               |                      |             Disabled |\n",
      "+-------------------------------+----------------------+----------------------+\n",
      "|   2  NVIDIA A100-SXM...  Off  | 00000000:4A:00.0 Off |                    0 |\n",
      "| N/A   27C    P0    51W / 400W |      0MiB / 40536MiB |      0%      Default |\n",
      "|                               |                      |             Disabled |\n",
      "+-------------------------------+----------------------+----------------------+\n",
      "|   3  NVIDIA A100-SXM...  Off  | 00000000:50:00.0 Off |                    0 |\n",
      "| N/A   29C    P0    53W / 400W |      0MiB / 40536MiB |      0%      Default |\n",
      "|                               |                      |             Disabled |\n",
      "+-------------------------------+----------------------+----------------------+\n",
      "|   4  NVIDIA A100-SXM...  Off  | 00000000:93:00.0 Off |                    0 |\n",
      "| N/A   30C    P0    50W / 400W |      0MiB / 40536MiB |      0%      Default |\n",
      "|                               |                      |             Disabled |\n",
      "+-------------------------------+----------------------+----------------------+\n",
      "|   5  NVIDIA A100-SXM...  Off  | 00000000:99:00.0 Off |                    0 |\n",
      "| N/A   26C    P0    51W / 400W |      0MiB / 40536MiB |      0%      Default |\n",
      "|                               |                      |             Disabled |\n",
      "+-------------------------------+----------------------+----------------------+\n",
      "|   6  NVIDIA A100-SXM...  Off  | 00000000:CB:00.0 Off |                    0 |\n",
      "| N/A   27C    P0    53W / 400W |      0MiB / 40536MiB |      0%      Default |\n",
      "|                               |                      |             Disabled |\n",
      "+-------------------------------+----------------------+----------------------+\n",
      "|   7  NVIDIA A100-SXM...  Off  | 00000000:D0:00.0 Off |                    0 |\n",
      "| N/A   28C    P0    50W / 400W |      0MiB / 40536MiB |      0%      Default |\n",
      "|                               |                      |             Disabled |\n",
      "+-------------------------------+----------------------+----------------------+\n",
      "                                                                               \n",
      "+-----------------------------------------------------------------------------+\n",
      "| Processes:                                                                  |\n",
      "|  GPU   GI   CI        PID   Type   Process name                  GPU Memory |\n",
      "|        ID   ID                                                   Usage      |\n",
      "|=============================================================================|\n",
      "|  No running processes found                                                 |\n",
      "+-----------------------------------------------------------------------------+\n"
     ]
    }
   ],
   "source": [
    "!nvidia-smi\n",
    "import os\n",
    "os.environ['CUDA_VISIBLE_DEVICES'] = \"0,1,2,3,4,5,6,7\"\n",
    "!export CUDA_VISIBLE_DEVICES=0,1,2,3,4,5,6,7"
   ]
  },
  {
   "cell_type": "code",
   "execution_count": null,
   "metadata": {},
   "outputs": [],
   "source": [
    "!run_im2im --config_path /mnt/data/ISAS.DE/yu.zhou/Yu/project/data_compression/CompressAI/examples/configs/labelfree_2d_FCN_train.yaml"
   ]
  }
 ],
 "metadata": {
  "kernelspec": {
   "display_name": "yz_compressAI",
   "language": "python",
   "name": "python3"
  },
  "language_info": {
   "codemirror_mode": {
    "name": "ipython",
    "version": 3
   },
   "file_extension": ".py",
   "mimetype": "text/x-python",
   "name": "python",
   "nbconvert_exporter": "python",
   "pygments_lexer": "ipython3",
   "version": "3.8.17"
  },
  "orig_nbformat": 4
 },
 "nbformat": 4,
 "nbformat_minor": 2
}
